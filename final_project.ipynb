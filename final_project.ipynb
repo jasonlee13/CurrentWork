{
 "cells": [
  {
   "cell_type": "code",
   "execution_count": null,
   "metadata": {},
   "outputs": [],
   "source": [
    "import numpy as np\n",
    "import pandas as pd\n",
    "import math\n",
    "\n",
    "# Total budget for the year\n",
    "TotalBudget = 1000000000;\n",
    "\n",
    "# Mapping of genre to number of movies of that genre to be produced this year\n",
    "GenreWeights = {\n",
    "    'Action' : -9.135e+06,\n",
    "    'Family' : -2.153e+07,\n",
    "    'Drama' : -1.128e+07,\n",
    "    'Comedy': -2.876e+06,\n",
    "    'Horror' : 6.371e+06,\n",
    "    'Music' : -1.966e+07,\n",
    "    'Science Fiction' : -4.979e+06,\n",
    "    'Animation' : 8.404e+07,\n",
    "    'Family' : -2.153e+07,\n",
    "    'History': -8.120e+07\n",
    "}\n",
    "\n",
    "MovieGenres = ['Comedy', 'Action', 'Action', 'Drama', 'Family', 'Horror', 'Animation', 'Science Fiction', 'Music', 'History']\n",
    "\n",
    "NumMovies = len(MovieGenres)\n",
    "\n",
    "Actors = ['Maggie Smith', 'Tom Hanks', 'Whoopi Goldberg', 'Orlando Bloom', 'Willem Dafoe', 'Bruce Willis', 'Alan Rickman', 'Scarlett Johansson', 'Leonardo DiCaprio', 'Chris Evans']\n",
    "ActorWeights = np.array([1.509e+07, 4.717e+07, 7.248e+07, -9.554e+07, 8.829e+06, 2.658e+06, -7.853e+06, -1.621e+07 , -5.958e+07, -8.787e+06])\n",
    "\n",
    "NumActors = 10;\n",
    "\n",
    "MinRuntime = 60;\n",
    "MaxRuntime = 240;\n",
    "\n",
    "MinBudget = 30000000;\n",
    "MaxBudget = 250000000;\n",
    "\n",
    "ReleaseYear = 2023;\n"
   ]
  },
  {
   "cell_type": "code",
   "execution_count": null,
   "metadata": {},
   "outputs": [
    {
     "data": {
      "text/plain": [
       "<gurobipy.Env, Parameter changes: OutputFlag=0>"
      ]
     },
     "execution_count": 2,
     "metadata": {},
     "output_type": "execute_result"
    }
   ],
   "source": [
    "import gurobipy as gp\n",
    "from gurobipy import GRB\n",
    "\n",
    "# Set up Gurobi environment\n",
    "env = gp.Env(empty=True)\n",
    "env.setParam('OutputFlag', 0)\n",
    "env.start()"
   ]
  },
  {
   "cell_type": "code",
   "execution_count": null,
   "metadata": {},
   "outputs": [],
   "source": [
    "# Initialize the model\n",
    "m = gp.Model(env=env)\n",
    "\n",
    "### Decision Variables ###\n",
    "\n",
    "# A vector of binary decision variables that denote which actors are selected for which movies\n",
    "ActorDec = m.addMVar((NumMovies, NumActors), vtype=GRB.BINARY)\n",
    "\n",
    "# A vector of decision variables that denote how much budget each movie gets\n",
    "Budget = m.addMVar((NumMovies, 1))\n",
    "\n",
    "# A vector of decision variables that denote how long each movie is\n",
    "Runtime = m.addMVar((NumMovies, 1))\n"
   ]
  },
  {
   "cell_type": "code",
   "execution_count": null,
   "metadata": {},
   "outputs": [],
   "source": [
    "### Constraints ###\n",
    "\n",
    "# Each actor can only be in one movie\n",
    "Const1a = m.addConstrs((ActorDec[:,i].sum() <= 1 for i in range(NumActors)))\n",
    "Const1b = m.addConstrs((ActorDec[:,i].sum() >= 1 for i in range(NumActors)))\n",
    "Const1c = m.addConstrs((ActorDec[i,:].sum() <= 2 for i in range(NumMovies)))\n",
    "Const1d = m.addConstr((ActorDec[0:3, 0].sum()) == 0)\n",
    "Const1e = m.addConstr((ActorDec[1:3, 2].sum()) == 0)\n",
    "Const1f = m.addConstr((ActorDec[0:11, 6].sum()) >= 1)\n",
    "Const1g = m.addConstr((ActorDec[8, 7]) == 1)\n",
    "\n",
    "# Each Movie has to get a certain budget\n",
    "Const2a = m.addConstrs((Budget[i] <= MaxBudget) for i in range(NumMovies))\n",
    "Const2b = m.addConstrs((Budget[i] >= MinBudget) for i in range(NumMovies))\n",
    "Const2c = m.addConstr((Budget.sum() <= TotalBudget))\n",
    "\n",
    "# Each movie must be in a range of runtimes\n",
    "Const3a = m.addConstrs((Runtime[i] <= MaxRuntime) for i in range(NumMovies))\n",
    "Const3b = m.addConstrs((Runtime[i] >= MinRuntime) for i in range(NumMovies))\n"
   ]
  },
  {
   "cell_type": "code",
   "execution_count": null,
   "metadata": {},
   "outputs": [
    {
     "data": {
      "text/html": [
       "<div>\n",
       "<style scoped>\n",
       "    .dataframe tbody tr th:only-of-type {\n",
       "        vertical-align: middle;\n",
       "    }\n",
       "\n",
       "    .dataframe tbody tr th {\n",
       "        vertical-align: top;\n",
       "    }\n",
       "\n",
       "    .dataframe thead th {\n",
       "        text-align: right;\n",
       "    }\n",
       "</style>\n",
       "<table border=\"1\" class=\"dataframe\">\n",
       "  <thead>\n",
       "    <tr style=\"text-align: right;\">\n",
       "      <th></th>\n",
       "      <th>Budget Allocation</th>\n",
       "    </tr>\n",
       "  </thead>\n",
       "  <tbody>\n",
       "    <tr>\n",
       "      <th>Comedy</th>\n",
       "      <td>30000000.0</td>\n",
       "    </tr>\n",
       "    <tr>\n",
       "      <th>Action</th>\n",
       "      <td>30000000.0</td>\n",
       "    </tr>\n",
       "    <tr>\n",
       "      <th>Action</th>\n",
       "      <td>30000000.0</td>\n",
       "    </tr>\n",
       "    <tr>\n",
       "      <th>Drama</th>\n",
       "      <td>30000000.0</td>\n",
       "    </tr>\n",
       "    <tr>\n",
       "      <th>Family</th>\n",
       "      <td>30000000.0</td>\n",
       "    </tr>\n",
       "    <tr>\n",
       "      <th>Horror</th>\n",
       "      <td>30000000.0</td>\n",
       "    </tr>\n",
       "    <tr>\n",
       "      <th>Animation</th>\n",
       "      <td>70000000.0</td>\n",
       "    </tr>\n",
       "    <tr>\n",
       "      <th>Science Fiction</th>\n",
       "      <td>250000000.0</td>\n",
       "    </tr>\n",
       "    <tr>\n",
       "      <th>Music</th>\n",
       "      <td>250000000.0</td>\n",
       "    </tr>\n",
       "    <tr>\n",
       "      <th>History</th>\n",
       "      <td>250000000.0</td>\n",
       "    </tr>\n",
       "  </tbody>\n",
       "</table>\n",
       "</div>"
      ],
      "text/plain": [
       "                 Budget Allocation\n",
       "Comedy                  30000000.0\n",
       "Action                  30000000.0\n",
       "Action                  30000000.0\n",
       "Drama                   30000000.0\n",
       "Family                  30000000.0\n",
       "Horror                  30000000.0\n",
       "Animation               70000000.0\n",
       "Science Fiction        250000000.0\n",
       "Music                  250000000.0\n",
       "History                250000000.0"
      ]
     },
     "execution_count": 6,
     "metadata": {},
     "output_type": "execute_result"
    }
   ],
   "source": [
    "### Objective Function ###\n",
    "Revenue = np.array([])\n",
    "\n",
    "#for i in range(NumMovies):\n",
    "    #rev = GenreWeights[MovieGenres[i]] + (Runtime[i] * 8.499e+05) + (Budget[i] * 2.329e+00) + ActorDec[i] @ ActorWeights + (ReleaseYear * 1.051e+05)\n",
    "    #np.append(Revenue, rev)\n",
    "\n",
    "m.setObjective(sum(GenreWeights[MovieGenres[i]] for i in range(NumMovies))+sum(Budget[i] * 2.322e+00 for i in range(NumMovies)) + sum(Runtime[i]*1.138e+06 for i in range(NumMovies)) + sum(ActorDec[i] @ ActorWeights for i in range(NumMovies)), GRB.MAXIMIZE)\n",
    "# insert predictive model\n",
    "# m.setObjective(sum(Revenue), GRB.MAXIMIZE)\n",
    "m.optimize()\n",
    "\n",
    "m.getAttr(\"ObjVal\")\n",
    "\n",
    "#import pandas as pd\n",
    "row_names = ['Comedy', 'Action', 'Action', 'Drama', 'Family', 'Horror', 'Animation', 'Science Fiction', 'Music', 'History']\n",
    "col_names = ['Maggie Smith', 'Tom Hanks', 'Whoopi Goldberg', 'Orlando Bloom', 'Willem Dafoe', 'Bruce Willis', 'Alan Rickman', 'Scarlett Johansson', 'Leonardo DiCaprio', 'Chris Evans']\n",
    "\n",
    "#pd.DataFrame(MY.getAttr('x'))\n",
    "\n",
    "#pd.DataFrame(Budget.getAttr('x'), index = row_names, columns=[\"Budget Allocation\"])\n",
    "pd.DataFrame(ActorDec.getAttr('x'), index = row_names, columns=col_names)\n",
    "#pd.DataFrame(Runtime.getAttr('x'))"
   ]
  }
 ],
 "metadata": {
  "kernelspec": {
   "display_name": "Python 3.10.6 64-bit",
   "language": "python",
   "name": "python3"
  },
  "language_info": {
   "codemirror_mode": {
    "name": "ipython",
    "version": 3
   },
   "file_extension": ".py",
   "mimetype": "text/x-python",
   "name": "python",
   "nbconvert_exporter": "python",
   "pygments_lexer": "ipython3",
   "version": "3.10.6"
  },
  "orig_nbformat": 4,
  "vscode": {
   "interpreter": {
    "hash": "aee8b7b246df8f9039afb4144a1f6fd8d2ca17a180786b69acc140d282b71a49"
   }
  }
 },
 "nbformat": 4,
 "nbformat_minor": 2
}
